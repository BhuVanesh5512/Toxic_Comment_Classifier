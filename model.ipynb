{
 "cells": [
  {
   "cell_type": "code",
   "execution_count": 1,
   "metadata": {},
   "outputs": [],
   "source": [
    "import pandas as pd\n",
    "from sklearn.feature_extraction.text import TfidfVectorizer\n",
    "from sklearn.model_selection import train_test_split, StratifiedKFold, cross_val_score\n",
    "import xgboost as xgb\n",
    "from sklearn.metrics import accuracy_score, classification_report, precision_score, recall_score, f1_score\n",
    "import re\n",
    "import string\n",
    "from nltk.corpus import stopwords\n",
    "import numpy as np\n",
    "from sklearn.utils import class_weight\n",
    "import pickle\n",
    "from scipy.sparse import hstack, csr_matrix\n",
    "import nltk\n",
    "from sklearn.preprocessing import MaxAbsScaler"
   ]
  },
  {
   "cell_type": "markdown",
   "metadata": {},
   "source": [
    "# Data loading\n"
   ]
  },
  {
   "cell_type": "code",
   "execution_count": 2,
   "metadata": {},
   "outputs": [],
   "source": [
    "try:\n",
    "    df = pd.read_csv(\"train.csv\", usecols=['comment_text', 'target'], nrows=10000) #Test load this file first! And change this parameters!\n",
    "except FileNotFoundError:\n",
    "    print(\"Error: 'final_train.csv' not found.  Make sure the file is in the same directory as your script or specify the correct path.\")\n",
    "    exit()"
   ]
  },
  {
   "cell_type": "markdown",
   "metadata": {},
   "source": [
    "# 1. Data Cleaning and Preprocessing"
   ]
  },
  {
   "cell_type": "code",
   "execution_count": 3,
   "metadata": {},
   "outputs": [],
   "source": [
    "df.dropna(subset=['comment_text', 'target'], inplace=True)\n",
    "df['target'] = pd.to_numeric(df['target'], errors='coerce')\n",
    "df.dropna(subset=['target'], inplace=True)\n",
    "df['target'] = (df['target'] > 0.5).astype(int)\n",
    "\n",
    "# 2. Text Cleaning\n",
    "def clean_text(text):\n",
    "    text = text.lower()\n",
    "    text = text.translate(str.maketrans('', '', string.punctuation))\n",
    "    text = re.sub(r'\\d+', '', text)\n",
    "    stop_words = set(stopwords.words('english'))\n",
    "    text = ' '.join([word for word in text.split() if word not in stop_words])\n",
    "    text = re.sub(r'[^a-zA-Z\\s]', '', text)\n",
    "    text = re.sub(r'[^\\x00-\\x7F]+', '', text)\n",
    "    return text\n",
    "\n",
    "df['comment_text'] = df['comment_text'].apply(clean_text)"
   ]
  },
  {
   "cell_type": "markdown",
   "metadata": {},
   "source": [
    "# 3. Feature Engineering (TF-IDF)"
   ]
  },
  {
   "cell_type": "code",
   "execution_count": 5,
   "metadata": {},
   "outputs": [],
   "source": [
    "profane_words = [\"shit\", \"fuck\", \"ass\", \"bitch\", \"cunt\", \"dick\", \"piss\", \"cock\", \"bastard\", \"faggot\", \"idiot\", \"stupid\", \"moron\", \"trash\", \"garbage\", 'HELL', \"hell\"]\n",
    "toxicity_terms = {\n",
    "    \"insult\": [\"idiot\", \"stupid\", \"moron\", \"fool\", \"jerk\", \"loser\"],\n",
    "    \"hate_speech\": [\"racist\", \"sexist\", \"bigot\", \"nazi\",\"rapist\"],\n",
    "    \"threat\": [\"kill\", \"hit\", \"hurt\", \"destroy\", \"attack\"],\n",
    "    \"harassment\": [\"stalk\", \"bully\", \"abuse\", \"mock\", \"tease\"],\n",
    "    \"offensive\": [\"trash\", \"garbage\", \"worthless\", \"pathetic\"]\n",
    "}\n",
    "\n",
    "# Create features for individual profane words\n",
    "for word in profane_words:\n",
    "    df[f'profane_{word}'] = df['comment_text'].apply(lambda x: x.count(word))\n",
    "\n",
    "# Create features for individual toxicity terms\n",
    "for category, terms in toxicity_terms.items():\n",
    "    for word in terms:\n",
    "        df[f'{category}_{word}'] = df['comment_text'].apply(lambda x: x.count(word))"
   ]
  },
  {
   "cell_type": "markdown",
   "metadata": {},
   "source": [
    "# 4. Split data into training and testing sets"
   ]
  },
  {
   "cell_type": "code",
   "execution_count": 6,
   "metadata": {},
   "outputs": [],
   "source": [
    "tfidf_vectorizer = TfidfVectorizer(max_features=1500,ngram_range=(1,2))  # Increased max_features and add a ngram features\n",
    "tfidf_matrix = tfidf_vectorizer.fit_transform(df['comment_text'])"
   ]
  },
  {
   "cell_type": "markdown",
   "metadata": {},
   "source": [
    "# 5. Combine Features - Scaled and then Combined"
   ]
  },
  {
   "cell_type": "code",
   "execution_count": 7,
   "metadata": {},
   "outputs": [],
   "source": [
    "X_additional = df[[col for col in df.columns if col.startswith('profane_') or col.startswith('insult_') or col.startswith('hate_speech_') or col.startswith('threat_') or col.startswith('harassment_') or col.startswith('offensive_')]].values #Fixed\n",
    "scaler = MaxAbsScaler()\n",
    "X_additional_scaled = scaler.fit_transform(X_additional)\n",
    "X_additional_sparse = csr_matrix(X_additional_scaled) #Convert to sparse\n",
    "X = hstack([tfidf_matrix, X_additional_sparse])"
   ]
  },
  {
   "cell_type": "markdown",
   "metadata": {},
   "source": [
    "# 6. Split Data - Stratified for better class representation"
   ]
  },
  {
   "cell_type": "code",
   "execution_count": 8,
   "metadata": {},
   "outputs": [],
   "source": [
    "y = df['target']\n",
    "X_train, X_test, y_train, y_test = train_test_split(X, y, test_size=0.2, random_state=42, stratify=y)\n",
    "\n",
    "del df, tfidf_matrix, X_additional, X_additional_scaled # Clean up memory"
   ]
  },
  {
   "cell_type": "markdown",
   "metadata": {},
   "source": [
    "# 7. Class Weights - Important for imbalanced datasets"
   ]
  },
  {
   "cell_type": "code",
   "execution_count": 9,
   "metadata": {},
   "outputs": [],
   "source": [
    "class_weights = class_weight.compute_class_weight(\n",
    "    class_weight='balanced',\n",
    "    classes=np.unique(y_train),\n",
    "    y=y_train\n",
    ")\n",
    "train_weights = np.take(class_weights, y_train)"
   ]
  },
  {
   "cell_type": "markdown",
   "metadata": {},
   "source": [
    "# 8. XGBoost Model - Tuned Parameters"
   ]
  },
  {
   "cell_type": "code",
   "execution_count": 10,
   "metadata": {},
   "outputs": [],
   "source": [
    "xgboost_classifier = xgb.XGBClassifier(\n",
    "    random_state=42,\n",
    "    use_label_encoder=False,\n",
    "    eval_metric='logloss',\n",
    "    scale_pos_weight=0.9,  # weight the toxic\n",
    "    learning_rate=0.05,\n",
    "    max_depth=6,\n",
    "    n_estimators=600,\n",
    "    subsample=0.7,\n",
    "    colsample_bytree=0.7,\n",
    "    gamma=0.1,\n",
    "    reg_alpha=0.1,\n",
    "    reg_lambda=1\n",
    ")"
   ]
  },
  {
   "cell_type": "markdown",
   "metadata": {},
   "source": [
    "# 9. Training and  Evaluation"
   ]
  },
  {
   "cell_type": "code",
   "execution_count": 11,
   "metadata": {},
   "outputs": [
    {
     "name": "stderr",
     "output_type": "stream",
     "text": [
      "c:\\Users\\P.BHUVANESH CHOWDARY\\AppData\\Local\\Programs\\Python\\Python312\\Lib\\site-packages\\xgboost\\training.py:183: UserWarning: [20:32:42] WARNING: C:\\actions-runner\\_work\\xgboost\\xgboost\\src\\learner.cc:738: \n",
      "Parameters: { \"use_label_encoder\" } are not used.\n",
      "\n",
      "  bst.update(dtrain, iteration=i, fobj=obj)\n"
     ]
    },
    {
     "name": "stdout",
     "output_type": "stream",
     "text": [
      "Accuracy: 0.942\n",
      "\n",
      "Classification Report:\n",
      "               precision    recall  f1-score   support\n",
      "\n",
      "           0       0.97      0.97      0.97      1915\n",
      "           1       0.35      0.41      0.38        85\n",
      "\n",
      "    accuracy                           0.94      2000\n",
      "   macro avg       0.66      0.69      0.67      2000\n",
      "weighted avg       0.95      0.94      0.94      2000\n",
      "\n"
     ]
    }
   ],
   "source": [
    "# Training\n",
    "xgboost_classifier.fit(X_train, y_train, sample_weight=train_weights)\n",
    "\n",
    "# Evaluation\n",
    "y_pred = xgboost_classifier.predict(X_test)\n",
    "accuracy = accuracy_score(y_test, y_pred)\n",
    "report = classification_report(y_test, y_pred)\n",
    "\n",
    "print(\"Accuracy:\", accuracy)\n",
    "print(\"\\nClassification Report:\\n\", report)"
   ]
  },
  {
   "cell_type": "markdown",
   "metadata": {},
   "source": [
    "# 10. Save Model"
   ]
  },
  {
   "cell_type": "code",
   "execution_count": 12,
   "metadata": {},
   "outputs": [
    {
     "name": "stdout",
     "output_type": "stream",
     "text": [
      "Models saved successfully!\n"
     ]
    }
   ],
   "source": [
    "with open('tfidf_vectorizer.pkl', 'wb') as f:\n",
    "    pickle.dump(tfidf_vectorizer, f)\n",
    "\n",
    "with open('xgboost_model.pkl', 'wb') as f:\n",
    "    pickle.dump(xgboost_classifier, f)\n",
    "\n",
    "print(\"Models saved successfully!\")"
   ]
  }
 ],
 "metadata": {
  "kernelspec": {
   "display_name": "Python 3",
   "language": "python",
   "name": "python3"
  },
  "language_info": {
   "codemirror_mode": {
    "name": "ipython",
    "version": 3
   },
   "file_extension": ".py",
   "mimetype": "text/x-python",
   "name": "python",
   "nbconvert_exporter": "python",
   "pygments_lexer": "ipython3",
   "version": "3.12.9"
  }
 },
 "nbformat": 4,
 "nbformat_minor": 2
}
